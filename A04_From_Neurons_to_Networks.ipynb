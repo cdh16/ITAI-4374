{
  "nbformat": 4,
  "nbformat_minor": 0,
  "metadata": {
    "colab": {
      "provenance": []
    },
    "kernelspec": {
      "name": "python3",
      "display_name": "Python 3"
    },
    "language_info": {
      "name": "python"
    }
  },
  "cells": [
    {
      "cell_type": "code",
      "execution_count": 9,
      "metadata": {
        "colab": {
          "base_uri": "https://localhost:8080/"
        },
        "id": "W8LrlTCp8F1g",
        "outputId": "d07de568-4380-46ee-e91a-9b34785f7b29"
      },
      "outputs": [
        {
          "output_type": "stream",
          "name": "stdout",
          "text": [
            "Input: 5.00, Output: 1\n",
            "Input: 5.26, Output: 1\n",
            "Input: 5.53, Output: 1\n",
            "Input: 5.79, Output: 1\n",
            "Input: 6.05, Output: 1\n",
            "Input: 6.32, Output: 1\n",
            "Input: 6.58, Output: 1\n",
            "Input: 6.84, Output: 1\n",
            "Input: 7.11, Output: 1\n",
            "Input: 7.37, Output: 1\n",
            "Input: 7.63, Output: 1\n",
            "Input: 7.89, Output: 1\n",
            "Input: 8.16, Output: 1\n",
            "Input: 8.42, Output: 1\n",
            "Input: 8.68, Output: 1\n",
            "Input: 8.95, Output: 1\n",
            "Input: 9.21, Output: 1\n",
            "Input: 9.47, Output: 1\n",
            "Input: 9.74, Output: 1\n",
            "Input: 10.00, Output: 1\n"
          ]
        }
      ],
      "source": [
        "import numpy as np\n",
        "def neuron_response(inputs, threshold=0.5):\n",
        " outputs = []\n",
        " for inp in inputs:\n",
        "  if inp >= threshold:\n",
        "    outputs.append(1) # Neuron fires\n",
        "  else:\n",
        "    outputs.append(0) # No firing\n",
        " return outputs\n",
        "# Example Input Patterns\n",
        "input_patterns = np.linspace(5, 10, 20)\n",
        "output_responses = neuron_response(input_patterns)\n",
        "# Display Results\n",
        "for inp, out in zip(input_patterns, output_responses):\n",
        " print(f\"Input: {inp:.2f}, Output: {out}\")"
      ]
    },
    {
      "cell_type": "markdown",
      "source": [
        "When changing the input pattern, the **first number** changes **where the input number starts** (in this case 5) the **middle number** changes the **actual input numbers** in the reults, going up to the sepcified number (in this case 10), and the the **last number** changes **the number of outputs** you get, in this case 20"
      ],
      "metadata": {
        "id": "gCCN5dR-8p7_"
      }
    }
  ]
}